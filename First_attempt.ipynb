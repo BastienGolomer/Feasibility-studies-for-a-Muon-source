{
 "cells": [
  {
   "cell_type": "markdown",
   "metadata": {},
   "source": [
    "# Action and emittance of a muon\n",
    "\n",
    "Now that we have the optical parameters of the FODO lattice, we can apply this to our problem : the production of muons from proton annihilation. We are going to concentrate on the action variable. This will be useful later to assess the emittance. \n",
    "\n",
    "More precisely, we are going to express the action variable of the muons in function of the the action variable of the positron.\n",
    "\n",
    "So depending on the energy of the particle (that we can get from $P_0$), we get a different focal length. From the equations from above, we deduce that each of the partice\n",
    "\n",
    "the action variable is written : \n",
    "\n",
    "$J_x = \\frac{1}{2}(\\gamma_x x^2 + 2 \\alpha_x x p_x + \\beta_x p_x^2)$ and should be invariant along the beam line (to be verified)\n",
    "\n",
    "We are going to try to express this action variable of the muon in function of the optical parameters of both particles and the action variable of the positron. Several equations are going to be useful in this manipulation : \n",
    "\n",
    "* (1) The coordinates along the $x$ axis can be expressed as (4.36)(4.37)\n",
    "$$\\begin{aligned}\n",
    "x &=\\sqrt{2 \\beta_{x} J_{x}} \\cos \\phi_{x} \\\\\n",
    "p_{x} &=-\\sqrt{\\frac{2 J_{x}}{\\beta_{x}}}\\left(\\sin \\phi_{x}+\\alpha_{x} \\cos \\phi_{x}\\right)\n",
    "\\end{aligned}$$ (eq 4.36 and 4.37 of the book)\n",
    "\n",
    "* (2) The angle variable is : $\\tan \\phi_{x}=-\\beta_{x} \\frac{p_{x}}{x}-\\alpha_{x}$ (4.35) and is ruled by the following differential equation\n",
    "\n",
    "$$\\frac{d \\phi_{x}}{d s}=\\frac{1}{\\beta_{x}}$$ (4.53)\n",
    "\n",
    "* (3) This expression, using the definition of $\\beta_x$ found earlier : $ \\beta_x(s) = \\frac{(c_1^2 + 4) s^2}{4 c_2} + c_1 s + c_2 = as^2 + c_1s + c_2$, gives a formula for $\\phi_x$.\n",
    "\n",
    "$$ \\phi_x(s) =  2 \\frac{\\arctan\\left(\\frac{2as + c_1}{\\sqrt{4ac_2 -c_1^2}}\\right)}{\\sqrt{4ac_2 -c_1^2}} + const$$\n",
    "* (4) Recall the definition of the $k_1$ parameter : $$k_{1}=\\frac{q}{P_{0}} \\frac{\\partial B_{y}}{\\partial x}$$\n",
    "\n",
    "\n",
    "### 1) First change\n",
    "\n",
    "\n",
    "The muons are produced by annhilation of a positron on a target (positron electron interaction). We can thus say that $x_p = x_\\mu$ for any site $s$ of annihilation. It is not the case for $p_p$ and $p_\\mu$. We can replace in the equation of action using equations in (1):\n",
    "\n",
    "$$J_{x_\\mu} = \\frac{1}{2}(\\gamma_{x_\\mu} (2\\beta_{x_p}J_{x_p})\\cos^2(\\phi_{x_p}) + 2 \\alpha_{x_\\mu} \\sqrt{2\\beta_{x_p}J_{x_p}}\\cos(\\phi_{x_p}) p_{x_\\mu} + \\beta_{x_\\mu} p_{x_\\mu}^2)$$\n",
    "\n",
    "### 2) Finding all the parameters of the positron\n",
    "\n",
    "We need to know the optical parameters, the action and angle variables of the positron to put them into the equation of the muon's action.\n",
    "\n",
    "We can find the optical parameters by first finding the adequate $k_1$. Using equation (4), setting the gradient of magnetic field and inserting the $P_0$ corresponding to an energy of 45 GeV, we get the appropriate $k_1$, which, in the limit of thin quadrupoles, give the focal length $f = \\frac{1]{k_1L}$\n",
    "\n",
    "With the same reasoning as earlier in this notebook, we can find all the optical parameters $\\beta_{x_p}(s)$, $\\alpha_{x_p}(s)$ and $\\gamma_{x_p}(s)$.\n",
    "\n",
    "Now we can calculate the action variable of the positron. As this parameter is an invariant of the particles motion, we can evaluate it at $s=0$ by setting a boundary condition $x_{p0}$. $p_{x_{p0}} = P_0$ is already set and from the calculation of the optical parameters, we know their values at $s=0$. Thus :\n",
    "\n",
    "$$J_x = \\frac{1}{2}(\\gamma_{x_{p0}} x_{p0}^2 + 2 \\alpha_{x_{p0}} x_{p0} p_{x_{p0}} + \\beta_{x_{p0}} p_{x_{p0}}^2)$$\n",
    "\n",
    "Furthermore, we can assess the value of $\\phi_{x_p}$ using equation (3) and the expression we found for $\\beta_{x_p}(s)$. The $+const$ can be found by setting $x_p = x_{p0}$ in equation (3) and by using the first relation of (1) at this point as well.\n",
    "\n",
    "Finally, we can get the expressions of the position and momentum using equation (1)\n",
    "\n",
    "\n",
    "### 3) Finding the parameters of the muon\n",
    "\n",
    "We need to find the optical parameters of the muon. To do this, we use the fact that the momentum of the muon corresponds to the momentum of the positron plus a $\\delta$ parameter (angle of deflection of the reaction). For an annihilation at $s= s_0$ :\n",
    "\n",
    "$$ p_{x_{\\mu 0}} = p_{x_{p}}(s_0) + \\delta $$ \n",
    "\n",
    "If we know experimentally the energy of the muon produced, then we can guess the $\\delta$ parameter. From the momentum we can then compute a $k_1'$ parameter (we keep the same gradient of magnetic field. This allows to compute the focal length and with the same reasoning as before we can compute the three different optical parameters in the FODO cell.\n",
    "\n",
    "The only remaining parameter to find $J_{x_\\mu}$ is the momentum $ p_{x_{\\mu }} $, which we actually already know : $$  p_{x_{\\mu }} (s) = p_{x_{p}}(s) + \\delta$$ \n",
    "\n",
    "We can already inject :\n",
    "\n",
    "$$\n",
    "J_{x_\\mu} = \\frac{1}{2} \\left( \\gamma_{x_\\mu} \\left( 2\\beta_{x_p}J_{x_p}\\right)\\cos^2\\left(\\phi_{x_p}\\right) + 2 \\alpha_{x_\\mu} \\sqrt{2\\beta_{x_p}J_{x_p}}\\cos\\left(\\phi_{x_p}\\right) \\left(p_{x_{p}} + \\delta\\right) + \\beta_{x_\\mu} \\left(p_{x_{p}} + \\delta\\right)^2\\right)\n",
    "$$\n",
    "\n",
    "\n",
    "We can get the angle variable of the muon using the same reasoning we used earlier for the positron (we have all the parameters we need).\n",
    "\n",
    "\n",
    "### Calculating the mean values at a given s\n",
    "\n",
    "In order to get a simpler equation, we will take the average values of the action and angle variable of the phase space at a given $s$.\n",
    "\n",
    "In the approximation of a gaussian profile for $p$ and $x$, going to the action angle system of coordinates can make things easier.\n",
    "\n",
    "We can replace the values of $p_{x_{p}}$ by their expressions in function of the action and angle  \n",
    "\n",
    "\n",
    "$$\n",
    "J_{x_\\mu} = \\frac{1}{2} \\left( \\gamma_{x_\\mu} \\left( 2\\beta_{x_p}J_{x_p}\\right)\\cos^2\\left(\\phi_{x_p}\\right) + 2 \\alpha_{x_\\mu} \\sqrt{2\\beta_{x_p}J_{x_p}}\\cos\\left(\\phi_{x_p}\\right) \\left(\\left(-\\sqrt{\\frac{2 J_{x_p}}{\\beta_{x_p}}}\\left(\\sin \\phi_{x_p}+\\alpha_{x_p} \\cos (\\phi_{x_p})\\right)\\right) + \\delta\\right) + \\beta_{x_\\mu} \\left(\\left(-\\sqrt{\\frac{2 J_{x_p}}{\\beta_{x_p}}}\\left(\\sin \\phi_{x_p}+\\alpha_{x_p} \\cos \\phi_{x_p}\\right)\\right) + \\delta\\right)^2\\right)\n",
    "$$\n",
    "\n",
    "\n",
    "It is common knowledge (see book) that, with right hypotheses, the change of variable from $(x,p) \\rightarrow (J,\\phi)$ gives a jacobian determinatn equal to unity and two new probability distribution : a uniform distribution $f_\\phi = \\frac{1}{2\\pi}$ and an exponential distribution $f_J = \\frac{1}{\\varepsilon_p}e^{-\\frac{J_p}{\\varepsilon}}$\n",
    "\n",
    "\n",
    "Using these pieces of information, we can calculate the mean value $$ <J_{x_\\mu}> = \\int_0^{2\\pi} d\\phi_{x_p} \\int_0^{+\\infty} dJ_{x_p} \\frac{1}{2\\pi\\varepsilon_p}e^{-\\frac{J_p}{\\varepsilon}} J_{x_\\mu} $$\n",
    "\n",
    "The calculation were done with pen and paper and we get the following result.\n",
    "\n",
    "$$ <J_{x_{\\mu}}> = \\frac{1}{2} \\left(\\gamma_{\\mu} \\beta_p\\varepsilon_p - 2\\alpha_\\mu\\alpha_p\\varepsilon_p + \\frac{\\alpha_p^2+1}{\\beta_p}\\varepsilon_p + \\delta^2 \\right)$$\n"
   ]
  },
  {
   "cell_type": "markdown",
   "metadata": {},
   "source": [
    "# Feasibility\n",
    "\n",
    "We want to minimise as much as possible the emittance of the muons. \"Design, Assembly and First Measurements of a short Model for CLIC Final Focus Hybrid Quadrupole QD0\" is a paper  that gives an interval of 550-610 T/m for the strongest field gradient ever produced by a quadrupole. These quadrupoles are of length 2.73 m, which in the thin lenses approximations gives a FODO cell of length 5.46m."
   ]
  },
  {
   "cell_type": "code",
   "execution_count": 12,
   "metadata": {},
   "outputs": [],
   "source": [
    "import numpy as np\n",
    "import math as m\n",
    "import pandas\n",
    "from matplotlib import pyplot as plt\n",
    "\n",
    "from __future__ import print_function\n",
    "from ipywidgets import interact, interactive, fixed, interact_manual\n",
    "import ipywidgets as widgets"
   ]
  },
  {
   "cell_type": "markdown",
   "metadata": {},
   "source": [
    "# Optical parameters of the positron"
   ]
  },
  {
   "cell_type": "code",
   "execution_count": 67,
   "metadata": {},
   "outputs": [],
   "source": [
    "v_c = 299792458 ; # speed of light in m/s\n",
    "s_e = (0.230)**2 # square of the energy in the center of mass in GeV\n",
    "E_e = 45 ; # energy of the positron in GeV\n",
    "E_mu = 22 ; # energy of the muon in GeV\n",
    "\n",
    "q_e = 1; #charge of a positron in units of an electron charge\n",
    "q_mu = -1; #charge of a muon in units of an electron charge\n",
    "\n",
    "m_e = 0.511*10**(-3); # mass of the positron in GeV/c^2\n",
    "m_mu = 0.10565; # mass of the muon in GeV/c^2\n",
    "\n",
    "gamma_e = np.sqrt(s_e)/(2*m_e); # approximately 225\n",
    "\n",
    "L = 2.73; # length of the FODO cell using the QD0 quadrupole in meters\n",
    "dB = 575; # from 550 T/m to 610 T/m TO BE SET"
   ]
  },
  {
   "cell_type": "code",
   "execution_count": 68,
   "metadata": {},
   "outputs": [
    {
     "name": "stdout",
     "output_type": "stream",
     "text": [
      "0.09562276975919133\n",
      "-813.0845401999784\n"
     ]
    }
   ],
   "source": [
    "# CALCULATING THE OPTICAL PARAMETERS FOR THE POSITRON\n",
    "P_e = np.sqrt(E_e**2 - m_e**2); # canonical momentum of the positron in GeV/c at the entrance\n",
    "\n",
    "k_1e = q_e/(P_e*10**9/v_c)*dB  # k_1 in a quadrupole\n",
    "f = 1/(k_1e*L); # focal of this particle\n",
    "print(f)\n",
    "# Building the transfer matrix of the FODO cell\n",
    "Rx1 = 1 - L/f*(1+L/f); Rx2 = L/f*(2*f+L); Rx3 = -L/(f**2); Rx4 = 1+L/f;\n",
    "Ry1 = 1 + L/f*(1-L/f); Ry2 = L/f*(2*f-L); Ry3 = -L/f**2; Ry4 = 1-L/f;\n",
    "Rx = np.matrix([[Rx1, Rx2], [Rx3, Rx4]]);\n",
    "Ry = np.matrix([[Ry1, Ry2], [Ry3, Ry4]]);\n",
    "\n",
    "tr= Rx1 + Rx4\n",
    "print(tr)"
   ]
  },
  {
   "cell_type": "code",
   "execution_count": 66,
   "metadata": {},
   "outputs": [
    {
     "name": "stdout",
     "output_type": "stream",
     "text": [
      "0.09164582704090339\n",
      "0.9999999999999998\n",
      "1.9383678986616273\n",
      "0.09164582704090339\n",
      "0.9999999999999981\n"
     ]
    },
    {
     "name": "stderr",
     "output_type": "stream",
     "text": [
      "<ipython-input-66-ed7228e2b59f>:12: DeprecationWarning: np.asscalar(a) is deprecated since NumPy v1.16, use a.item() instead\n",
      "  tr= np.asscalar(Ry.trace());\n"
     ]
    },
    {
     "data": {
      "text/plain": [
       "<matplotlib.legend.Legend at 0x24319dde550>"
      ]
     },
     "execution_count": 66,
     "metadata": {},
     "output_type": "execute_result"
    },
    {
     "data": {
      "image/png": "[encoded data removed]",
      "text/plain": [
       "<Figure size 432x288 with 1 Axes>"
      ]
     },
     "metadata": {
      "needs_background": "light"
     },
     "output_type": "display_data"
    },
    {
     "data": {
      "image/png": "[encoded data removed]",
      "text/plain": [
       "<Figure size 432x288 with 1 Axes>"
      ]
     },
     "metadata": {
      "needs_background": "light"
     },
     "output_type": "display_data"
    }
   ],
   "source": [
    "# the coefficients at the focusing quadrupole\n",
    "mu_x = m.acos(tr/2); \n",
    "alpha_x0 = (Rx1 - Rx4)/(2*np.sin(mu_x));\n",
    "beta_x0 = Rx2/np.sin(mu_x);\n",
    "gamma_x0 = -Rx3/np.sin(mu_x);\n",
    "test = beta_x0*gamma_x0 - alpha_x0**2\n",
    "\n",
    "# the coefficients at the defocusing quadrupole\n",
    "tr= np.asscalar(Ry.trace());\n",
    "mu_y = m.acos(tr/2) ;\n",
    "alpha_y0 = (Ry1 - tr/2)/np.sin(mu_y);\n",
    "beta_y0 = Ry2/np.sin(mu_y);\n",
    "gamma_y0 = -Ry3/np.sin(mu_y); \n",
    "test = beta_y0*gamma_y0 - alpha_y0**2\n",
    "\n",
    "# we are going to devide the drift spaces\n",
    "s = np.linspace(0,L,10);\n",
    "\n",
    "    # drift after focusing\n",
    "a = L**2/(4*beta_x0);\n",
    "b = L;\n",
    "c = beta_x0 + L**2/beta_x0 - beta_y0 ;\n",
    "delta = b**2 - 4*a*c;\n",
    "c_1 = (-b + np.sqrt(delta))/(2*a) # this solution of the polynomial is the physical one\n",
    "c_2 = beta_x0;\n",
    "\n",
    "\n",
    "beta_FD =  [(c_1**2 + 4)*x**2/(4*c_2) + c_1*x + c_2 for x in s] ;#beta in the drift following the focusing quadrupole\n",
    "alpha_FD =  [ -1/2*((c_1**2 + 4)*x/(2*c_2) + c_1) for x in s];\n",
    "gamma_FD = np.zeros(10);\n",
    "for i in range(10) :\n",
    "    gamma_FD[i] = (1 + alpha_FD[i]**2)/beta_FD[i]\n",
    "    \n",
    "\n",
    "    # drift after focusing\n",
    "a = L**2/(4*beta_y0);\n",
    "b = L;\n",
    "c = beta_y0 + L**2/beta_y0 - beta_x0 ;\n",
    "delta = b**2 - 4*a*c;\n",
    "c_1 = (-b + np.sqrt(delta))/(2*a) # this solution of the polynomial is the physical one\n",
    "c_2 = beta_y0;\n",
    "\n",
    "\n",
    "beta_DD =  [(c_1**2 + 4)*x**2/(4*c_2) + c_1*x + c_2 for x in s] ;#beta in the drift following the defocusing quadrupole\n",
    "alpha_DD =  [ -1/2*((c_1**2 + 4)*x/(2*c_2) + c_1) for x in s];\n",
    "gamma_DD = np.zeros(10);\n",
    "for i in range(10) :\n",
    "    gamma_DD[i] = (1 + alpha_DD[i]**2)/beta_DD[i]\n",
    "\n",
    "\n",
    "\n",
    "Fig = plt.figure()\n",
    "plt.plot(s,beta_FD,'r',label = 'beta')\n",
    "plt.plot(s,alpha_FD,'b',label = 'alpha')\n",
    "plt.plot(s,gamma_FD,'k',label = 'gamma')\n",
    "plt.grid(True)\n",
    "plt.legend(['beta positron', 'alpha positron', 'gamma positron'], loc=4)\n",
    "\n",
    "Fig = plt.figure()\n",
    "plt.plot(s,beta_DD,'r',label = 'beta')\n",
    "plt.plot(s,alpha_DD,'b',label = 'alpha')\n",
    "plt.plot(s,gamma_DD,'k',label = 'gamma')\n",
    "plt.grid(True)\n",
    "plt.legend(['beta positron', 'alpha positron', 'gamma positron'], loc=4)\n",
    "\n"
   ]
  },
  {
   "cell_type": "markdown",
   "metadata": {},
   "source": [
    "# Optical parameters for the Muon"
   ]
  },
  {
   "cell_type": "code",
   "execution_count": 46,
   "metadata": {},
   "outputs": [
    {
     "name": "stdout",
     "output_type": "stream",
     "text": [
      "1344463583.5031593\n",
      "inf\n",
      "nan\n",
      "inf\n",
      "nan\n",
      "inf\n",
      "inf\n"
     ]
    },
    {
     "name": "stderr",
     "output_type": "stream",
     "text": [
      "<ipython-input-46-ce9710b26836>:16: RuntimeWarning: divide by zero encountered in double_scalars\n",
      "  alpha_x0 = (Rx1 - Rx4)/(2*np.sin(mu_x));\n",
      "<ipython-input-46-ce9710b26836>:17: RuntimeWarning: divide by zero encountered in double_scalars\n",
      "  beta_x0 = Rx2/np.sin(mu_x);\n",
      "<ipython-input-46-ce9710b26836>:18: RuntimeWarning: divide by zero encountered in double_scalars\n",
      "  gamma_x0 = -Rx3/np.sin(mu_x);\n",
      "<ipython-input-46-ce9710b26836>:21: RuntimeWarning: invalid value encountered in double_scalars\n",
      "  test = beta_x0*gamma_x0 - alpha_x0**2\n",
      "<ipython-input-46-ce9710b26836>:25: DeprecationWarning: np.asscalar(a) is deprecated since NumPy v1.16, use a.item() instead\n",
      "  tr= np.asscalar(Ry.trace());\n",
      "<ipython-input-46-ce9710b26836>:27: RuntimeWarning: divide by zero encountered in double_scalars\n",
      "  alpha_y0 = (Ry1 - tr/2)/np.sin(mu_y);\n",
      "<ipython-input-46-ce9710b26836>:28: RuntimeWarning: divide by zero encountered in double_scalars\n",
      "  beta_y0 = Ry2/np.sin(mu_y);\n",
      "<ipython-input-46-ce9710b26836>:29: RuntimeWarning: divide by zero encountered in double_scalars\n",
      "  gamma_y0 = -Ry3/np.sin(mu_y);\n",
      "<ipython-input-46-ce9710b26836>:32: RuntimeWarning: invalid value encountered in double_scalars\n",
      "  test = beta_y0*gamma_y0 - alpha_y0**2\n",
      "<ipython-input-46-ce9710b26836>:41: RuntimeWarning: invalid value encountered in double_scalars\n",
      "  c = 4*beta_x0*(beta_x0-beta_y0) + 4;\n",
      "<ipython-input-46-ce9710b26836>:56: RuntimeWarning: invalid value encountered in double_scalars\n",
      "  c = 4*beta_y0*(beta_y0-beta_x0) + 4;\n"
     ]
    },
    {
     "data": {
      "image/png": "[encoded data removed]",
      "text/plain": [
       "<Figure size 432x288 with 1 Axes>"
      ]
     },
     "metadata": {
      "needs_background": "light"
     },
     "output_type": "display_data"
    },
    {
     "data": {
      "image/png": "[encoded data removed]",
      "text/plain": [
       "<Figure size 432x288 with 1 Axes>"
      ]
     },
     "metadata": {
      "needs_background": "light"
     },
     "output_type": "display_data"
    }
   ],
   "source": [
    "P_mu = P_e + delta;# canonical momentum of the positron in GeV/c at the entrance\n",
    "\n",
    "k_1mu = q_mu/(P_mu*10**9/c)*dB  # k_1 in a quadrupole\n",
    "f = 1/(k_1mu*L); # focal of this particle\n",
    "print(f)\n",
    "# Building the transfer matrix of the FODO cell\n",
    "Rx1 = 1 - L/f*(1+L/f); Rx2 = L/f*(2*f+L); Rx3 = -L/(f**2); Rx4 = 1+L/f;\n",
    "Ry1 = 1 + L/f*(1-L/f); Ry2 = L/f*(2*f-L); Ry3 = -L/f**2; Ry4 = 1-L/f;\n",
    "Rx = np.matrix([[Rx1, Rx2], [Rx3, Rx4]]);\n",
    "Ry = np.matrix([[Ry1, Ry2], [Ry3, Ry4]]);\n",
    "\n",
    "tr= Rx1 + Rx4\n",
    "\n",
    "# the coefficients at the focusing quadrupole\n",
    "mu_x = m.acos(tr/2) ; \n",
    "alpha_x0 = (Rx1 - Rx4)/(2*np.sin(mu_x));\n",
    "beta_x0 = Rx2/np.sin(mu_x);\n",
    "gamma_x0 = -Rx3/np.sin(mu_x);\n",
    "print(gamma_x0)\n",
    "\n",
    "test = beta_x0*gamma_x0 - alpha_x0**2\n",
    "print(test) # almost 1 , OK\n",
    "\n",
    "# the coefficients at the defocusing quadrupole\n",
    "tr= np.asscalar(Ry.trace());\n",
    "mu_y = m.acos(tr/2) ;\n",
    "alpha_y0 = (Ry1 - tr/2)/np.sin(mu_y);\n",
    "beta_y0 = Ry2/np.sin(mu_y);\n",
    "gamma_y0 = -Ry3/np.sin(mu_y); \n",
    "print(gamma_y0)\n",
    "\n",
    "test = beta_y0*gamma_y0 - alpha_y0**2\n",
    "print(test) # almost 1 , OK\n",
    "# gamma remains a constant\n",
    "\n",
    "\n",
    "# we are going to devide the drift spaces\n",
    "s = np.linspace(0,L,10);\n",
    "\n",
    "    # drift after focusing\n",
    "a = L**2/(4*beta_x0);\n",
    "b = L;\n",
    "c = beta_x0 + L**2/beta_x0 - beta_y0 ;\n",
    "delta = b**2 - 4*a*c;\n",
    "c_1 = (-b + np.sqrt(delta))/(2*a) # this solution of the polynomial is the physical one\n",
    "c_2 = beta_x0;\n",
    "\n",
    "\n",
    "beta_FD =  [(c_1**2 + 4)*x**2/(4*c_2) + c_1*x + c_2 for x in s] ;#beta in the drift following the focusing quadrupole\n",
    "alpha_FD =  [ -1/2*((c_1**2 + 4)*x/(2*c_2) + c_1) for x in s];\n",
    "gamma_FD = np.zeros(10);\n",
    "for i in range(10) :\n",
    "    gamma_FD[i] = (1 + alpha_FD[i]**2)/beta_FD[i]\n",
    "    \n",
    "\n",
    "    # drift after focusing\n",
    "a = L**2/(4*beta_y0);\n",
    "b = L;\n",
    "c = beta_y0 + L**2/beta_y0 - beta_x0 ;\n",
    "delta = b**2 - 4*a*c;\n",
    "c_1 = (-b + np.sqrt(delta))/(2*a) # this solution of the polynomial is the physical one\n",
    "c_2 = beta_y0;\n",
    "\n",
    "\n",
    "beta_DD =  [(c_1**2 + 4)*x**2/(4*c_2) + c_1*x + c_2 for x in s] ;#beta in the drift following the defocusing quadrupole\n",
    "alpha_DD =  [ -1/2*((c_1**2 + 4)*x/(2*c_2) + c_1) for x in s];\n",
    "gamma_DD = np.zeros(10);\n",
    "for i in range(10) :\n",
    "    gamma_DD[i] = (1 + alpha_DD[i]**2)/beta_DD[i]\n",
    "\n",
    "Fig = plt.figure()\n",
    "plt.plot(s,beta_FD,'r',label = 'beta muon')\n",
    "plt.plot(s,alpha_FD,'b',label = 'alpha')\n",
    "plt.plot(s,gamma_FD,'k',label = 'gamma')\n",
    "plt.legend(['beta muon', 'alpha muon', 'gamma muon'], loc=4)\n",
    "\n",
    "\n",
    "\n",
    "Fig = plt.figure()\n",
    "plt.plot(s,beta_DD,'r',label = 'beta')\n",
    "plt.plot(s,alpha_DD,'b',label = 'alpha')\n",
    "plt.plot(s,gamma_DD,'k',label = 'gamma')\n",
    "plt.legend(['beta muon', 'alpha muon', 'gamma muon'], loc=4)\n",
    "\n",
    "plt.grid(True)"
   ]
  },
  {
   "cell_type": "markdown",
   "metadata": {},
   "source": [
    "# Finding the emittance of the muon"
   ]
  },
  {
   "cell_type": "code",
   "execution_count": null,
   "metadata": {},
   "outputs": [],
   "source": []
  }
 ],
 "metadata": {
  "kernelspec": {
   "display_name": "Python 3",
   "language": "python",
   "name": "python3"
  },
  "language_info": {
   "codemirror_mode": {
    "name": "ipython",
    "version": 3
   },
   "file_extension": ".py",
   "mimetype": "text/x-python",
   "name": "python",
   "nbconvert_exporter": "python",
   "pygments_lexer": "ipython3",
   "version": "3.8.3"
  }
 },
 "nbformat": 4,
 "nbformat_minor": 4
}
