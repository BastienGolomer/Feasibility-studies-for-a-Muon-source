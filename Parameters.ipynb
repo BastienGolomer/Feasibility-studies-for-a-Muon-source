{
 "cells": [
  {
   "cell_type": "markdown",
   "metadata": {},
   "source": [
    "# Week 2\n",
    "\n",
    "The goal of this second week is to get a first glance at the Courant Snyder parameters\n",
    "\n",
    "These parameters are dependant on the length $L_q$ of the FODO cell.\n",
    "\n",
    "When we take the limit of quadrupoles being thin lenses (thus thin $L_q$), we get the following equations\n",
    "\n",
    "$$\\begin{array}{c}\n",
    "L_{q} \\rightarrow 0 \\\\\n",
    "k_{1} L_{q} \\rightarrow \\frac{1}{f} \\\\\n",
    "k_{1}=\\frac{q}{P_{0}} \\frac{\\partial B_{y}}{\\partial x}\n",
    "\\end{array}$$\n",
    "\n",
    "$P_0 = \\beta_0\\gamma_0 mc$ is the initial canonical momentum. Moreover, $\\beta\\gamma = \\sqrt{\\gamma^2-1}$ and $\\gamma = \\frac{E}{mc^2}$.\n",
    "$q$ is the charge of the particle we consider.\n"
   ]
  },
  {
   "cell_type": "code",
   "execution_count": 31,
   "metadata": {},
   "outputs": [],
   "source": [
    "import numpy as np\n",
    "import math as m\n",
    "import pandas"
   ]
  },
  {
   "cell_type": "code",
   "execution_count": 71,
   "metadata": {},
   "outputs": [],
   "source": [
    "E_e = 45 ; # energy of the positron in GeV\n",
    "E_mu = 22 ; # energy of the muon in GeV\n",
    "\n",
    "q_e = 1; #charge of a positron in units of an electron charge\n",
    "q_mu = -1; #charge of a muon in units of an electron charge\n",
    "\n",
    "m_e = 0.511*10**(-3); # mass of the positron in GeV/c^2\n",
    "m_mu = 0.10565; # mass of the muon in GeV/c^2\n",
    "\n",
    "\n",
    "gamma_e = E_e/(m_e) # c = 1\n",
    "gamma_mu = E_mu/(m_mu) # c = 1\n",
    "\n",
    "L = 0.1; # length in meters TO BE SET\n",
    "dB = 10; # gradient of the magnetic field TO BE SET \n",
    "\n",
    "\n",
    "P_e = m_e*np.sqrt(gamma_e**2 - 1) # canonical momentum of the positron in GeV/c\n",
    "\n",
    "k_1 = q_e/P_e*dB;\n",
    "f = 1/(k_1*L) ; # focal length\n",
    "\n"
   ]
  },
  {
   "cell_type": "markdown",
   "metadata": {},
   "source": [
    "\n",
    "Some other information\n",
    "\n",
    "The transfer matrix for a quadrupole is the following\n",
    "$$R_{\\mathrm{F}}=\\left(\\begin{array}{rrrrr}\n",
    "1 & 0 & 0 & 0 & 0 \\\\\n",
    "-\\frac{1}{f} & 1 & 0 & 0 & 0 & 0 \\\\\n",
    "0 & 0 & 1 & 0 & 0 & 0 \\\\\n",
    "0 & 0 & \\frac{1}{f} & 1 & 0 & 0 \\\\\n",
    "0 & 0 & 0 & 0 & 1 & 0 \\\\\n",
    "0 & 0 & 0 & 0 & 0 & 1\n",
    "\\end{array}\\right)$$\n",
    "\n",
    "The transfer matrix for a drift portion is the following\n",
    "\n",
    "$$R_{\\mathrm{drift}}=\\left(\\begin{array}{cccccc}\n",
    "1 & L & 0 & 0 & 0 & 0 \\\\\n",
    "0 & 1 & 0 & 0 & 0 & 0 \\\\\n",
    "0 & 0 & 1 & L & 0 & 0 \\\\\n",
    "0 & 0 & 0 & 1 & 0 & 0 \\\\\n",
    "0 & 0 & 0 & 0 & 1 & \\frac{L}{\\beta_{0}^{2} \\gamma_{0}^{2}} \\\\\n",
    "0 & 0 & 0 & 0 & 0 & 1\n",
    "\\end{array}\\right)$$\n",
    "\n",
    "For an entire FODO cell, we get the matrix $R = R_{drift}R_D R_{drift} R_F = R=\\left(\\begin{array}{ccc}\n",
    "R_{x} & 0 & 0 \\\\\n",
    "0 & R_{y} & 0 \\\\\n",
    "0 & 0 & R_{z}\n",
    "\\end{array}\\right)$\n",
    "\n",
    "Where \n",
    "$$R_{x}=\\left(\\begin{array}{cc}\n",
    "1-\\frac{L}{f}\\left(1+\\frac{L}{f}\\right) & \\frac{L}{f}(2 f+L) \\\\\n",
    "-\\frac{L}{f^{2}} & 1+\\frac{L}{f}\n",
    "\\end{array}\\right)$$\n",
    "\n",
    "$$R_{y}=\\left(\\begin{array}{cc}\n",
    "1+\\frac{L}{f}\\left(1-\\frac{L}{f}\\right) & \\frac{L}{f}(2 f-L) \\\\\n",
    "-\\frac{L}{f^{2}} & 1-\\frac{L}{f}\n",
    "\\end{array}\\right)$$\n",
    "\n",
    "$$R_{z}=\\left(\\begin{array}{ll}\n",
    "1 & \\frac{2 L}{\\beta_{0}^{2} \\gamma_{0}^{2}} \\\\\n",
    "0 & 1\n",
    "\\end{array}\\right)$$\n"
   ]
  },
  {
   "cell_type": "code",
   "execution_count": 72,
   "metadata": {},
   "outputs": [],
   "source": [
    "# Building the transfer matrix of the FODO cell\n",
    "Rx1 = 1 - L/f*(1+f); \n",
    "Rx2 = L/f*(2*f+L);\n",
    "Rx3 = -L/(f**2);\n",
    "Rx4 = 1+L/f;\n",
    "\n",
    "Ry1 = 1 + L/f*(1-f); \n",
    "Ry2 = L/f*(2*f-L);\n",
    "Ry3 = -L/f**2;\n",
    "Ry4 = 1-L/f;\n",
    "\n",
    "Rx = np.matrix([[Rx1, Rx2],\n",
    "      [Rx3, Rx4]]);\n",
    "Ry = np.matrix([[Ry1, Ry2],\n",
    "      [Ry3, Ry4]]);\n",
    "Rz = np.matrix([[1, 2*L/(gamma_e**1 -1)],\n",
    "      [0, 1]]); # because gamma*beta = sqrt(gamma^2 - 1)\n",
    "\n"
   ]
  },
  {
   "cell_type": "markdown",
   "metadata": {},
   "source": [
    "Now we want the coefficients. We will for that use the reference book *Beam Dynamics in High Energy Particle Accelerators* tp get the appropriate formulas.\n",
    "\n",
    "We know that in our case (a particle propagating in the x direction as its longitudinal direction), $ Tr(R_x) = 2 cos(\\mu_x) $ where $\\mu_x$ is the phase advance. \n",
    "\n",
    "Then we have the formula \n",
    "\n",
    "$$R_{x}=\\left(\\begin{array}{cc}\n",
    "\\cos \\mu_{x}+\\alpha_{x} \\sin \\mu_{x} & \\beta_{x} \\sin \\mu_{x} \\\\\n",
    "-\\gamma_{x} \\sin \\mu_{x} & \\cos \\mu_{x}-\\alpha_{x} \\sin \\mu_{x}\n",
    "\\end{array}\\right)$$\n",
    "\n",
    "Which allows us to find the values of the Courant Snyder parameters at an abscisse $s_0$, using only the values found for $R_x$ and the value calculated for $\\mu_x$."
   ]
  },
  {
   "cell_type": "code",
   "execution_count": 73,
   "metadata": {},
   "outputs": [
    {
     "name": "stderr",
     "output_type": "stream",
     "text": [
      "<ipython-input-73-66986451ea3e>:3: DeprecationWarning: np.asscalar(a) is deprecated since NumPy v1.16, use a.item() instead\n",
      "  tr= np.asscalar(Rx.trace());\n"
     ]
    }
   ],
   "source": [
    "# mu_x = m.acos( Rx.trace());\n",
    "\n",
    "tr= np.asscalar(Rx.trace());"
   ]
  },
  {
   "cell_type": "code",
   "execution_count": 77,
   "metadata": {},
   "outputs": [],
   "source": [
    "mu_x = m.acos(tr/2)\n",
    "alpha_x = (Rx1 -np.cos(mu_x))/np.sin(mu_x)\n",
    "beta_x = Rx2/np.sin(mu_x)\n",
    "gamma_x = -Rx3/np.sin(mu_x)\n",
    "\n",
    "test = beta_x*gamma_x - alpha_x**2 # pb, isn't equal to 1"
   ]
  },
  {
   "cell_type": "markdown",
   "metadata": {},
   "source": [
    "Questions: \n",
    "\n",
    "* here we have some values, but I have to specify the initial $s_0$, what is it ? How to plug it in the equations? I'm gonna suppose for now that$s$ is a straight line and $s_0 = (x_0,y_0) = (0,0)$, which makes $x \\equiv s$\n",
    "\n",
    "* The equation of stability not being equal to 1.\n",
    "* I have to find what the book means by $R_{Fx}$ (it says \"2 x 2 sub-matrix (the first block diagonal) of the transfer matrix for the horizontally focusing quadrupole\"). and the first expression of $R(s_1,s_0)$\n"
   ]
  },
  {
   "cell_type": "markdown",
   "metadata": {},
   "source": [
    "The action variable is : \n",
    "$$J_{x}=\\frac{1}{2}\\left(\\begin{array}{l} x  & p_{x} \\end{array}\\right) A_{x}\\left(\\begin{array}{c}\n",
    "x \\\\\n",
    "p_{x}\n",
    "\\end{array}\\right)\n",
    "$$\n",
    "\n",
    "also written $J_x = \\frac{1}{2}(\\gamma_x x^2 + 2 \\alpha_x x p_x + \\beta_x p_x^2)$ and should be invariant along the beam line (to be verified)\n",
    "\n",
    "The angle variable is : $\\tan \\phi_{x}=-\\beta_{x} \\frac{p_{x}}{x}-\\alpha_{x}$\n",
    "\n",
    "The coordinates along the $x$ axis can be expressed as \n",
    "$$\\begin{aligned}\n",
    "x &=\\sqrt{2 \\beta_{x} J_{x}} \\cos \\phi_{x} \\\\\n",
    "p_{x} &=-\\sqrt{\\frac{2 J_{x}}{\\beta_{x}}}\\left(\\sin \\phi_{x}+\\alpha_{x} \\cos \\phi_{x}\\right)\n",
    "\\end{aligned}$$ (eq 4.36 and 4.37 of the book)\n",
    "\n",
    "The area of the ellipse formed by these coordinates should be $2 \\pi J_x$"
   ]
  },
  {
   "cell_type": "code",
   "execution_count": 78,
   "metadata": {},
   "outputs": [
    {
     "data": {
      "text/plain": [
       "0.9999975308641972"
      ]
     },
     "execution_count": 78,
     "metadata": {},
     "output_type": "execute_result"
    }
   ],
   "source": [
    "1-1/2*(L/f)**2 # with our parameters, is below 1"
   ]
  }
 ],
 "metadata": {
  "kernelspec": {
   "display_name": "Python 3",
   "language": "python",
   "name": "python3"
  },
  "language_info": {
   "codemirror_mode": {
    "name": "ipython",
    "version": 3
   },
   "file_extension": ".py",
   "mimetype": "text/x-python",
   "name": "python",
   "nbconvert_exporter": "python",
   "pygments_lexer": "ipython3",
   "version": "3.8.3"
  }
 },
 "nbformat": 4,
 "nbformat_minor": 4
}
