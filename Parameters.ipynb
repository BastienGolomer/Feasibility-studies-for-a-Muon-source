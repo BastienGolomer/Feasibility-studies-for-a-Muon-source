{
 "cells": [
  {
   "cell_type": "markdown",
   "metadata": {},
   "source": [
    "# Week 2\n",
    "\n",
    "The goal of this second week is to get a first glance at the Courant Snyder parameters.\n",
    "\n",
    "These parameters are dependant on the length $L$ of the FODO cell and the gradient of magnetic field $\\frac{\\partial B_{y}}{\\partial x}$. We will make the assummpitonWhen we take the limit of quadrupoles being thin lenses (thus thin $L$), we get the following equations\n",
    "\n",
    "\n",
    "We set the value $k_1$, which  is a function of $s$ that characterises the focusing at each point along the beam line. In a drift space, for example, $k_1 = 0$ since the momentum of a particle will be constant. In a quadrupole, in the approximation:\n",
    "$p_x \\approx x_0$ :\n",
    "\n",
    "\n",
    "$$\\begin{array}{c}\n",
    "L \\rightarrow 0 \\\\\n",
    "k_{1} L \\rightarrow \\frac{1}{f} \\\\\n",
    "k_{1}=\\frac{q}{P_{0}} \\frac{\\partial B_{y}}{\\partial x}\n",
    "\\end{array}$$\n",
    "\n",
    "$B_y(s)$ is the vertical component of the magnetic field\n",
    "\n",
    "$P_0 = \\beta_0\\gamma_0 mc$ is the initial canonical momentum. Moreover, $\\beta\\gamma = \\sqrt{\\gamma^2-1}$ and $\\gamma = \\frac{E}{mc^2}$.\n",
    "$q$ is the charge of the particle we consider.\n"
   ]
  },
  {
   "cell_type": "code",
   "execution_count": 53,
   "metadata": {},
   "outputs": [],
   "source": [
    "import numpy as np\n",
    "import math as m\n",
    "import pandas\n",
    "from matplotlib import pyplot as plt"
   ]
  },
  {
   "cell_type": "code",
   "execution_count": 54,
   "metadata": {},
   "outputs": [],
   "source": [
    "E_e = 45 ; # energy of the positron in GeV\n",
    "E_mu = 22 ; # energy of the muon in GeV\n",
    "\n",
    "q_e = 1; #charge of a positron in units of an electron charge\n",
    "q_mu = -1; #charge of a muon in units of an electron charge\n",
    "\n",
    "m_e = 0.511*10**(-3); # mass of the positron in GeV/c^2\n",
    "m_mu = 0.10565; # mass of the muon in GeV/c^2\n",
    "\n",
    "\n",
    "gamma_e = E_e/(m_e) # c = 1\n",
    "gamma_mu = E_mu/(m_mu) # c = 1\n",
    "\n",
    "L = 1; # length in meters TO BE SET\n",
    "f = np.sqrt(2); # focal length\n",
    "k_1 = 1/(f*L); # k_1 in a quadrupole\n",
    "k_1_drift = 0 # k_1 in a drift region\n",
    "\n",
    "# Some other parameters\n",
    "P_e = m_e*np.sqrt(gamma_e**2 - 1) # canonical momentum of the positron in GeV/c\n",
    "dB = P_e/q_e*k_1; # gradient of magnetic field\n",
    "\n"
   ]
  },
  {
   "cell_type": "markdown",
   "metadata": {},
   "source": [
    "\n",
    "The transfer matrix for a quadrupole is the following\n",
    "$$R_{\\mathrm{F}}=\\left(\\begin{array}{rrrrr}\n",
    "1 & 0 & 0 & 0 & 0 \\\\\n",
    "-\\frac{1}{f} & 1 & 0 & 0 & 0 & 0 \\\\\n",
    "0 & 0 & 1 & 0 & 0 & 0 \\\\\n",
    "0 & 0 & \\frac{1}{f} & 1 & 0 & 0 \\\\\n",
    "0 & 0 & 0 & 0 & 1 & 0 \\\\\n",
    "0 & 0 & 0 & 0 & 0 & 1\n",
    "\\end{array}\\right)$$\n",
    "\n",
    "The transfer matrix for a drift portion is the following\n",
    "\n",
    "$$R_{\\mathrm{drift}}=\\left(\\begin{array}{cccccc}\n",
    "1 & L & 0 & 0 & 0 & 0 \\\\\n",
    "0 & 1 & 0 & 0 & 0 & 0 \\\\\n",
    "0 & 0 & 1 & L & 0 & 0 \\\\\n",
    "0 & 0 & 0 & 1 & 0 & 0 \\\\\n",
    "0 & 0 & 0 & 0 & 1 & \\frac{L}{\\beta_{0}^{2} \\gamma_{0}^{2}} \\\\\n",
    "0 & 0 & 0 & 0 & 0 & 1\n",
    "\\end{array}\\right)$$\n",
    "\n",
    "For an entire FODO cell, with a starting point $s=s_0$ (entrance of the focusing quadrupole), we get the matrix $R = R_{drift}R_D R_{drift} R_F = R=\\left(\\begin{array}{ccc}\n",
    "R_{x} & 0 & 0 \\\\\n",
    "0 & R_{y} & 0 \\\\\n",
    "0 & 0 & R_{z}\n",
    "\\end{array}\\right)$\n",
    "\n",
    "Where \n",
    "$$ R_{x}=\\left(\\begin{array}{cc}\n",
    "1-\\frac{L}{f}\\left(1+\\frac{L}{f}\\right) & \\frac{L}{f}(2 f+L) \\\\\n",
    "-\\frac{L}{f^{2}} & 1+\\frac{L}{f}\n",
    "\\end{array}\\right) \\qquad R_{y}=\\left(\\begin{array}{cc}\n",
    "1+\\frac{L}{f}\\left(1-\\frac{L}{f}\\right) & \\frac{L}{f}(2 f-L) \\\\\n",
    "-\\frac{L}{f^{2}} & 1-\\frac{L}{f} \\end{array}\\right)  \\qquad R_{z}=\\left(\\begin{array}{ll}\n",
    "1 & \\frac{2 L}{\\beta_{0}^{2} \\gamma_{0}^{2}} \\\\\n",
    "0 & 1 \\end{array}\\right)\n",
    "$$\n",
    "\n",
    "Notice that the $R_y$, which represents the defocusing plane is the same matrix that $R_x$ the focusing plane, with $f$ set to $-f$, which makes sense from an optical point of view."
   ]
  },
  {
   "cell_type": "code",
   "execution_count": 55,
   "metadata": {},
   "outputs": [],
   "source": [
    "# Building the transfer matrix of the FODO cell\n",
    "Rx1 = 1 - L/f*(1+L/f); Rx2 = L/f*(2*f+L); Rx3 = -L/(f**2); Rx4 = 1+L/f;\n",
    "Ry1 = 1 + L/f*(1-L/f); Ry2 = L/f*(2*f-L); Ry3 = -L/f**2; Ry4 = 1-L/f;\n",
    "Rx = np.matrix([[Rx1, Rx2], [Rx3, Rx4]]);\n",
    "Ry = np.matrix([[Ry1, Ry2], [Ry3, Ry4]]);\n"
   ]
  },
  {
   "cell_type": "markdown",
   "metadata": {},
   "source": [
    "Now we want the coefficients. We will for that use the reference book *Beam Dynamics in High Energy Particle Accelerators* to get the appropriate formulas.\n",
    "\n",
    "We know that in our case (a particle propagating in the x direction as its longitudinal direction), $ Tr(R_x) = 2 cos(\\mu_x) $ where $\\mu_x$ is the betatron phase advance. The trace is an invariant under changing the starting point, so does the phase advance.\n",
    "\n",
    "\n",
    "\n",
    "We have the formula \n",
    "\n",
    "$$R_{x}=\\left(\\begin{array}{cc}\n",
    "\\cos \\mu_{x}+\\alpha_{x} \\sin \\mu_{x} & \\beta_{x} \\sin \\mu_{x} \\\\\n",
    "-\\gamma_{x} \\sin \\mu_{x} & \\cos \\mu_{x}-\\alpha_{x} \\sin \\mu_{x}\n",
    "\\end{array}\\right)$$\n",
    "\n",
    "Which allows us to find the values of the Courant Snyder parameters, using only the values found for $R_x$ and the value calculated for $\\mu_x$."
   ]
  },
  {
   "cell_type": "code",
   "execution_count": 56,
   "metadata": {},
   "outputs": [
    {
     "name": "stdout",
     "output_type": "stream",
     "text": [
      "0.7559289460184543\n",
      "0.9999999999999991\n",
      "0.7559289460184543\n",
      "0.9999999999999998\n"
     ]
    },
    {
     "name": "stderr",
     "output_type": "stream",
     "text": [
      "<ipython-input-56-07491ec5bb38>:13: DeprecationWarning: np.asscalar(a) is deprecated since NumPy v1.16, use a.item() instead\n",
      "  tr= np.asscalar(Ry.trace());\n"
     ]
    }
   ],
   "source": [
    "# the coefficients at the focusing quadrupole\n",
    "tr= Rx1 + Rx4;\n",
    "mu_x = m.acos(tr/2) ; # plus or minus 1 at the beginning\n",
    "alpha_x0 = (Rx1 - Rx4)/(2*np.sin(mu_x));\n",
    "beta_x0 = Rx2/np.sin(mu_x);\n",
    "gamma_x0 = -Rx3/np.sin(mu_x);\n",
    "print(gamma_x0)\n",
    "\n",
    "test = beta_x0*gamma_x0 - alpha_x0**2\n",
    "print(test) # almost 1 , OK\n",
    "\n",
    "# the coefficients at the defocusing quadrupole\n",
    "tr= np.asscalar(Ry.trace());\n",
    "mu_y = m.acos(tr/2) ;\n",
    "alpha_y0 = (Ry1 - tr/2)/np.sin(mu_y);\n",
    "beta_y0 = Ry2/np.sin(mu_y);\n",
    "gamma_y0 = -Ry3/np.sin(mu_y); \n",
    "print(gamma_y0)\n",
    "\n",
    "test = beta_y0*gamma_y0 - alpha_y0**2\n",
    "print(test) # almost 1 , OK\n",
    "# gamma remains a constant\n"
   ]
  },
  {
   "cell_type": "markdown",
   "metadata": {},
   "source": [
    "<!-- $$R(s_1,s_0) = \\left(\\begin{array}{cc}\n",
    "\\sqrt{\\frac{\\beta_{x 1}}{\\beta_{x 0}}}\\left(\\cos \\mu_{x}+\\alpha_{x 0} \\sin \\mu_{x}\\right) & \\sqrt{\\beta_{x 0} \\beta_{x 1}} \\sin \\mu_{x} \\\\\n",
    "\\frac{\\alpha_{x 0}-\\alpha_{x 1}}{\\sqrt{\\beta_{x 0} \\beta_{x 1}}} \\cos \\mu_{x}-\\frac{1+\\alpha_{x 0} \\alpha_{x 1}}{\\sqrt{\\beta_{x 0} \\beta_{x 1}}} \\sin \\mu_{x} & \\sqrt{\\frac{\\beta_{x 0}}{\\beta_{x 1}}}\\left(\\cos \\mu_{x}-\\alpha_{x 1} \\sin \\mu_{x}\\right)\n",
    "\\end{array}\\right)$$\n",
    "\n",
    "\n",
    "\n",
    "To get the evolution of the parameters in the FODO lattice, we have to get the evolution of the parameters in the drift space, we can write the transfer matrix over a distance $s$ (4.90):\n",
    "\n",
    "$$R_{x}=\\left(\\begin{array}{ll}\n",
    "1 & s \\\\\n",
    "0 & 1\n",
    "\\end{array}\\right)$$\n",
    "\n",
    "Then, performing the matrix multiplication in (4.29), we find:\n",
    "\n",
    "$$\\begin{array}{l}\n",
    "\\beta_{x}(s)=\\beta_{x 0}+\\frac{s^{2}}{\\beta_{x 0}} \\\\\n",
    "\\alpha_{x}(s)=-\\frac{s}{\\beta_{x 0}}\n",
    "\\end{array}$$ -->\n",
    "\n",
    "\n",
    "\n",
    "The equation (4.82) is the differential equation giving the behaviour of the $beta$  function :\n",
    "$$\\beta_{x}^{\\prime \\prime}-\\frac{4+\\beta_{x}^{\\prime 2}}{2 \\beta_{x}}+2 k_{1} \\beta_{x}=0$$\n",
    "\n",
    "We use this equation for drift spaces in between quadrupoles, where $k_1 = 0$. Solving this equation gives us solution of type:\n",
    "$$\\beta(s) = \\frac{(c_1^2 + 4) s^2}{4 c_2} + c_1 s + c_2$$\n",
    "\n",
    "Using the boundary conditions , we can get the equations of motion.\n",
    "\n",
    "For the drift after the focusing quadrupole : $c_2 = \\beta_{x0} \\quad c_1 = - 4 \\beta_{x0} \\pm \\sqrt{\\Delta}$ wher $\\Delta = (4\\beta_{x0})^2 - 4(4(\\beta_{x_0}(\\beta_{x_0}-\\beta_{y_0}) +1))$\n",
    "\n",
    "The $\\beta_{x0}$ depends on which drift space we consider. If we consider the $\\beta_{y 0}$ calculated earlier.\n",
    "\n",
    "For the $\\alpha = - \\frac{1}{2} \\frac{d \\beta}{ds} =  - \\frac{1}{2} \\left(\\frac{(c_1^2 + 4) s}{2 c_2} + c_1 \\right)$ \n",
    "\n",
    "Moreover we have the equation (4.74) which gives us $\\beta_x \\gamma_x - \\alpha_x^2 = 1$, this gives \n",
    "\n"
   ]
  },
  {
   "cell_type": "code",
   "execution_count": 77,
   "metadata": {},
   "outputs": [
    {
     "name": "stdout",
     "output_type": "stream",
     "text": [
      "0.7559289460184541\n",
      "0.755928946018454\n",
      "0.755928946018454\n",
      "0.755928946018454\n",
      "0.755928946018454\n",
      "0.755928946018454\n",
      "0.7559289460184541\n",
      "0.7559289460184541\n",
      "0.7559289460184542\n",
      "0.755928946018454\n",
      "0.7559289460184543\n",
      "0.7559289460184544\n",
      "0.7559289460184543\n",
      "0.7559289460184543\n",
      "0.7559289460184542\n",
      "0.7559289460184543\n",
      "0.7559289460184546\n",
      "0.7559289460184544\n",
      "0.7559289460184544\n",
      "0.7559289460184543\n"
     ]
    },
    {
     "data": {
      "text/plain": [
       "[<matplotlib.lines.Line2D at 0x253ee0517c0>]"
      ]
     },
     "execution_count": 77,
     "metadata": {},
     "output_type": "execute_result"
    },
    {
     "data": {
      "image/png": "[encoded data removed]",
      "text/plain": [
       "<Figure size 432x288 with 1 Axes>"
      ]
     },
     "metadata": {
      "needs_background": "light"
     },
     "output_type": "display_data"
    },
    {
     "data": {
      "image/png": "[encoded data removed]",
      "text/plain": [
       "<Figure size 432x288 with 1 Axes>"
      ]
     },
     "metadata": {
      "needs_background": "light"
     },
     "output_type": "display_data"
    }
   ],
   "source": [
    "# we are going to devide the \n",
    "s = np.linspace(0,1,10);\n",
    "\n",
    "    # drift after focusing\n",
    "c = 4*beta_x0*(beta_x0-beta_y0) + 4;\n",
    "\n",
    "delta = (4*beta_x0)**2 - 4*c;\n",
    "c_1 = (- 4*beta_x0 + np.sqrt(delta))/2\n",
    "c_2 = beta_x0;\n",
    "\n",
    "\n",
    "beta_FD =  [(c_1**2 + 4)*x**2/(4*c_2) + c_1*x + c_2 for x in s] ;#beta in the drift following the focusing quadrupole\n",
    "alpha_FD =  [ -1/2*((c_1**2 + 4)*x/(2*c_2) + c_1) for x in s];\n",
    "gamma_FD = np.zeros(10);\n",
    "for i in range(10) :\n",
    "    gamma_FD[i] = (1 + alpha_FD[i]**2)/beta_FD[i]\n",
    "    \n",
    "\n",
    "    # drift after defocusing \n",
    "c = 4*beta_y0*(beta_y0-beta_x0) + 4;\n",
    "delta = (4*beta_y0)**2 - 4*c;\n",
    "c_1 = (- 4*beta_y0 + np.sqrt(delta))/2\n",
    "c_2 = beta_y0;\n",
    "\n",
    "\n",
    "beta_DD =  [(c_1**2 + 4)*x**2/(4*c_2) + c_1*x + c_2 for x in s] ;#beta in the drift following the defocusing quadrupole\n",
    "alpha_DD =  [ -1/2*((c_1**2 + 4)*x/(2*c_2) + c_1) for x in s];\n",
    "gamma_DD = np.zeros(10);\n",
    "for i in range(10) :\n",
    "    gamma_DD[i] = (1 + alpha_DD[i]**2)/beta_DD[i]\n",
    "\n",
    "\n",
    "\n",
    "Fig = plt.figure()\n",
    "plt.plot(s,beta_FD,'r',label = 'beta')\n",
    "plt.plot(s,alpha_FD,'b',label = 'alpha')\n",
    "plt.plot(s,gamma_FD,'k',label = 'gamma')\n",
    "\n",
    "\n",
    "\n",
    "Fig = plt.figure()\n",
    "plt.plot(s,beta_DD,'r',label = 'beta')\n",
    "plt.plot(s,alpha_DD,'b',label = 'alpha')\n",
    "plt.plot(s,gamma_DD,'k',label = 'gamma')\n"
   ]
  },
  {
   "cell_type": "markdown",
   "metadata": {},
   "source": [
    "The action variable is : \n",
    "$$J_{x}=\\frac{1}{2}\\left(\\begin{array}{l} x  & p_{x} \\end{array}\\right) A_{x}\\left(\\begin{array}{c}\n",
    "x \\\\\n",
    "p_{x}\n",
    "\\end{array}\\right)\n",
    "$$\n",
    "\n",
    "also written $J_x = \\frac{1}{2}(\\gamma_x x^2 + 2 \\alpha_x x p_x + \\beta_x p_x^2)$ and should be invariant along the beam line (to be verified)\n",
    "\n",
    "The angle variable is : $\\tan \\phi_{x}=-\\beta_{x} \\frac{p_{x}}{x}-\\alpha_{x}$\n",
    "\n",
    "The coordinates along the $x$ axis can be expressed as \n",
    "$$\\begin{aligned}\n",
    "x &=\\sqrt{2 \\beta_{x} J_{x}} \\cos \\phi_{x} \\\\\n",
    "p_{x} &=-\\sqrt{\\frac{2 J_{x}}{\\beta_{x}}}\\left(\\sin \\phi_{x}+\\alpha_{x} \\cos \\phi_{x}\\right)\n",
    "\\end{aligned}$$ (eq 4.36 and 4.37 of the book)\n",
    "\n",
    "\n",
    "The area of the ellipse formed by these coordinates should be $2 \\pi J_x$\n"
   ]
  }
 ],
 "metadata": {
  "kernelspec": {
   "display_name": "Python 3",
   "language": "python",
   "name": "python3"
  },
  "language_info": {
   "codemirror_mode": {
    "name": "ipython",
    "version": 3
   },
   "file_extension": ".py",
   "mimetype": "text/x-python",
   "name": "python",
   "nbconvert_exporter": "python",
   "pygments_lexer": "ipython3",
   "version": "3.8.3"
  }
 },
 "nbformat": 4,
 "nbformat_minor": 4
}
