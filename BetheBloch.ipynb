{
 "cells": [
  {
   "cell_type": "code",
   "execution_count": null,
   "metadata": {},
   "outputs": [],
   "source": [
    "def Bethe_Bloch (Energy,mass,charge,Z_target,A_target,rho_target, I_target) :\n",
    "# energy in MeV\n",
    "# mass in MeV/c^2 \n",
    "# charge in number of electric charges\n",
    "# Z_target the atomic numebr of the target \n",
    "# A_target is the atomic density of the target in g/cm^2\n",
    "# rho_target is the density of the target in g/cm^3\n",
    "# I_target is the mean excitation energy in Mev\n",
    "\n",
    "    K = 0.307075 #MeV mol−1 cm2\n",
    "    m_e = 0.510998946131 # mass of the electron * c^2 MeV\n",
    "    gamma = Energy/(mass); # approximately 225 for muon and 88063 for positron\n",
    "    beta = np.sqrt(1-1/gamma**2)\n",
    "    m_ec2 = 0.510998946131*3*10**8 # mass of the electron * c^2 in MeV * c^2\n",
    "    hbar_omega = np.sqrt(rho_target*Z_target/A_target)*28.816*10**(-6) \n",
    "    \n",
    "    W_max = 2*m_ec2*(beta*gamma)**2/(1+2*gamma*m_e/mass + (m_e/mass)**2)\n",
    "    delta = np.log(hbar_omega/I_target) + np.log(beta*gamma) -1/2\n",
    "    \n",
    "    dE = K*charge**2*Z_target/A_target*1/beta**2*(1/2*np.log(2*m_ec2*(beta*gamma)**2*W_max/I_target**2) - beta**2 - delta/2)\n",
    "    \n",
    "    return dE"
   ]
  },
  {
   "cell_type": "markdown",
   "metadata": {},
   "source": [
    "### Stopping power at intermediate energies\n",
    "\n",
    "The mean rate of energy loss by moderately relativistic charged heavy particles is well described by the \"Bethe equation,\"\n",
    "$$\n",
    "\\left\\langle-\\frac{d E}{d x}\\right\\rangle=K z^{2} \\frac{Z}{A} \\frac{1}{\\beta^{2}}\\left[\\frac{1}{2} \\ln \\frac{2 m_{e} c^{2} \\beta^{2} \\gamma^{2} W_{\\max }}{I^{2}}-\\beta^{2}-\\frac{\\delta(\\beta \\gamma)}{2}\\right]\n",
    "$$\n",
    "Eq. (34.5) is valid in the region $0.1 \\lesssim \\beta \\gamma \\leq 1000$ with an accuracy of a few percent. Small corrections are discussed below.\n",
    "\n",
    "This is the mass stopping power; with the symbol definitions and values given in Table 34.1 the units are MeV $\\mathrm{g}^{-1} \\mathrm{~cm}^{2}$. As can be seen from Fig. $34.2,\\langle d E / d x\\rangle$ defined in this way is about the same for most materials, decreasing slowly with $Z$. \n",
    "\n",
    "The linear stopping power, in MeV $/ \\mathrm{cm},$ is $\\rho\\langle d E / d x\\rangle,$ where $\\rho$ is the density in $\\mathrm{g} / \\mathrm{cm}^{3}$\n",
    "\n",
    "For a particle with mass $M$\n",
    "$$\n",
    "W_{\\max }=\\frac{2 m_{e} c^{2} \\beta^{2} \\gamma^{2}}{1+2 \\gamma m_{e} / M+\\left(m_{e} / M\\right)^{2}}\n",
    "$$\n",
    "\n",
    "As the particle energy increases, its electric field flattens and extends, so that the distantcollision contribution to the logarithmic term in Eq. (34.5) increases as $\\beta^{2} \\gamma^{2} .$ However, real media become polarized, limiting the field extension and effectively truncating this part of the logarithmic rise $[2-5,15,16] .$ At very high energies, density effect correction to ionization energy loss becomes\n",
    "$$\n",
    "\\delta(\\beta \\gamma) / 2 \\rightarrow \\ln \\left(\\hbar \\omega_{p} / I\\right)+\\ln \\beta \\gamma-1 / 2\n",
    "$$\n",
    "\n",
    "where $\\hbar \\omega_{p} $ is the plasma energy which value is \n",
    "$$\n",
    "\\sqrt{\\rho\\langle Z / A\\rangle} \\times 28.816 \\mathrm{eV}\n",
    "$$\n",
    "\n",
    "$$\n",
    "\\sqrt{4 \\pi N_{e} r_{e}^{3}} m_{e} c^{2} / \\alpha\n",
    "$$\n",
    "$\\longrightarrow \\rho$ in $\\mathrm{g} \\mathrm{cm}^{-3}$"
   ]
  },
  {
   "cell_type": "code",
   "execution_count": null,
   "metadata": {},
   "outputs": [],
   "source": [
    "LinearStoppingPower = np.zeros(88)\n",
    "Energy = E_p\n",
    "mass= m_p\n",
    "charge = 1\n",
    "\n",
    "for i in range(4,92) :\n",
    "    LinearStoppingPower[i-4] = rho[i-4]*Bethe_Bloch (Energy,mass,charge,Z[i-4],A[i-4],rho[i-4],I[i]) \n",
    "\n",
    "LinearStoppingPower = np.array(LinearStoppingPower)\n",
    "\n",
    "fig = plt.figure(2)\n",
    "plt.scatter(Z,LinearStoppingPower,color ='r', marker = '+')\n",
    "plt.xlabel(r'Z')\n",
    "plt.ylabel(r'Linear Stopping power $e^+$  [MeV/cm]')\n",
    "plt.grid()"
   ]
  },
  {
   "cell_type": "code",
   "execution_count": null,
   "metadata": {},
   "outputs": [],
   "source": [
    "LinearStoppingPower = np.zeros(88)\n",
    "Energy = E_mu\n",
    "mass= m_mu\n",
    "charge = 1\n",
    "\n",
    "for i in range(4,92) :\n",
    "    LinearStoppingPower[i-4] = rho[i-4]*Bethe_Bloch(Energy,mass,charge,Z[i-4],A[i-4],rho[i-4],I[i]) \n",
    "\n",
    "LinearStoppingPower = np.array(LinearStoppingPower)\n",
    "\n",
    "fig = plt.figure(3)\n",
    "plt.scatter(Z,LinearStoppingPower,color ='b', marker = '+')\n",
    "plt.xlabel(r'Z')\n",
    "plt.ylabel(r'Linear Stopping power $\\mu^+$ [MeV/cm]')\n",
    "plt.grid()"
   ]
  },
  {
   "cell_type": "markdown",
   "metadata": {},
   "source": [
    "###  Getting the length needed for each material for different percentages of energy difference\n",
    "10% of 40 GeV is 4 GeV and we set that to our upper limit"
   ]
  },
  {
   "cell_type": "code",
   "execution_count": null,
   "metadata": {},
   "outputs": [],
   "source": [
    "LinearStoppingPower = np.zeros((88,88))\n",
    "Energy = np.linspace(40000,4000,88)\n",
    "mass= m_p\n",
    "charge = 1\n",
    "\n",
    "for i in range(4,92) :\n",
    "    for j in range(88) :\n",
    "        LinearStoppingPower[i-4][j] = rho[i-4]*Bethe_Bloch(Energy[j],mass,charge,Z[i-4],A[i-4],rho[i-4],I[i]) \n",
    "\n",
    "LinearStoppingPower = np.array(LinearStoppingPower)\n",
    "\n",
    "PercentEnergy = np.linspace(0,4000,88)\n",
    "(x, y) = np.meshgrid(Z, PercentEnergy/400)\n",
    "fig = plt.figure(4)\n",
    "plt.contourf(x,y, 4000/np.transpose(LinearStoppingPower),color ='r', marker = '+')\n",
    "plt.xlabel(r'Z')\n",
    "plt.ylabel(r'Energy loss [$\\%$]')\n",
    "plt.colorbar( label =r'Length required  [cm]')\n",
    "plt.grid()"
   ]
  }
 ],
 "metadata": {
  "kernelspec": {
   "display_name": "Python 3",
   "language": "python",
   "name": "python3"
  },
  "language_info": {
   "codemirror_mode": {
    "name": "ipython",
    "version": 3
   },
   "file_extension": ".py",
   "mimetype": "text/x-python",
   "name": "python",
   "nbconvert_exporter": "python",
   "pygments_lexer": "ipython3",
   "version": "3.8.3"
  }
 },
 "nbformat": 4,
 "nbformat_minor": 4
}
